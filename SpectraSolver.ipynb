{
 "cells": [
  {
   "cell_type": "code",
   "execution_count": null,
   "metadata": {},
   "outputs": [],
   "source": [
    "import numpy as np\n",
    "import pandas as pd\n",
    "import matplotlib.pyplot as plt\n",
    "import os\n",
    "%matplotlib notebook"
   ]
  },
  {
   "cell_type": "code",
   "execution_count": null,
   "metadata": {
    "scrolled": true
   },
   "outputs": [],
   "source": [
    "concentrations = [1e-4,1e-5,1e-6,1e-7,2.5e-6,5e-5,5e-6,5e-7,7.5e-6]\n",
    "dmso_path1 = 'PB1_0703\\\\PB1_DMSO\\\\'\n",
    "dmso_path2 = 'PB1_0703\\\\PB1_DMSO_2\\\\'\n",
    "def read_dmso(filename):\n",
    "    return pd.read_csv(filename, skiprows=2, sep='\\t', names=['lam', 'absorb'])\n",
    "dmso1 = [read_dmso(dmso_path1+file) for file in os.listdir(dmso_path1) if file[-3:]=='txt']\n",
    "dmso2 = [read_dmso(dmso_path2+file) for file in os.listdir(dmso_path2) if file[-3:]=='txt']"
   ]
  },
  {
   "cell_type": "code",
   "execution_count": null,
   "metadata": {},
   "outputs": [],
   "source": [
    "bsl_path = 'PB1_0707\\\\DMSO\\\\BL\\\\'\n",
    "bsl_short = read_dmso(bsl_path+'DMSO_CONT_BL.txt')\n",
    "bsl_old1 = read_dmso(bsl_path+'DMSO_CONT_2.txt')\n",
    "bsl_old2 = read_dmso(bsl_path+'DMSO_CONT_3.txt')\n",
    "bsl_new = read_dmso(bsl_path+'DMSO_CONT_4.txt')\n",
    "bsl_new_bad = read_dmso(bsl_path+'DMSO_CONT_5.txt')"
   ]
  },
  {
   "cell_type": "code",
   "execution_count": null,
   "metadata": {},
   "outputs": [],
   "source": [
    "os.listdir(dmso_path2)"
   ]
  },
  {
   "cell_type": "code",
   "execution_count": null,
   "metadata": {},
   "outputs": [],
   "source": [
    "bsl_short = bsl_short[::2]\n",
    "bsl_old1 = bsl_old1[bsl_old1.lam>=400][::2]\n",
    "bsl_old2 = bsl_old2[bsl_old2.lam>=400][::2]\n",
    "bsl_new = bsl_new[bsl_new.lam>=400][::2]\n",
    "bsl_new_bad = bsl_new_bad[bsl_new_bad.lam>=400][::2]"
   ]
  },
  {
   "cell_type": "code",
   "execution_count": null,
   "metadata": {},
   "outputs": [],
   "source": [
    "empty_old = bsl_short.absorb.values - bsl_old1.absorb.values\n",
    "fig,ax = plt.subplots(1,1)\n",
    "ax.plot(bsl_short.lam,empty_old, label='empty')\n",
    "ax.plot(bsl_short.lam, bsl_short.absorb, label='DMSO+empty')\n",
    "ax.plot(bsl_short.lam, bsl_old1.absorb, label='DMSO')\n",
    "plt.legend()"
   ]
  },
  {
   "cell_type": "code",
   "execution_count": null,
   "metadata": {},
   "outputs": [],
   "source": [
    "inpurity = bsl_new_bad.absorb.values - bsl_new.absorb.values\n",
    "fig, ax = plt.subplots(3,1)\n",
    "ax[0].plot(bsl_short.lam, inpurity)\n",
    "for dmso in dmso1:\n",
    "    ax[1].plot(dmso.lam, dmso.absorb-inpurity)\n",
    "for dmso in dmso2:\n",
    "    ax[2].plot(dmso.lam, dmso.absorb-inpurity)"
   ]
  },
  {
   "cell_type": "code",
   "execution_count": null,
   "metadata": {},
   "outputs": [],
   "source": [
    "l = 1\n",
    "fig,ax = plt.subplots(2,1)\n",
    "for i,dmso in enumerate(dmso1):\n",
    "    y = dmso.absorb.values/l/concentrations[i]\n",
    "    ax[1].plot(dmso.lam, y)\n",
    "    ax[1].set_ylim(-500,1000)\n",
    "    ax[0].plot(dmso.lam, dmso.absorb)\n",
    "    "
   ]
  }
 ],
 "metadata": {
  "kernelspec": {
   "display_name": "Python 3",
   "language": "python",
   "name": "python3"
  },
  "language_info": {
   "codemirror_mode": {
    "name": "ipython",
    "version": 3
   },
   "file_extension": ".py",
   "mimetype": "text/x-python",
   "name": "python",
   "nbconvert_exporter": "python",
   "pygments_lexer": "ipython3",
   "version": "3.7.3"
  }
 },
 "nbformat": 4,
 "nbformat_minor": 2
}
