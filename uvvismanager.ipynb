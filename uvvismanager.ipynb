{
 "cells": [
  {
   "cell_type": "code",
   "execution_count": 3,
   "metadata": {
    "tags": []
   },
   "outputs": [
    {
     "name": "stdout",
     "output_type": "stream",
     "text": [
      "C:\\Users\\sh19129\\OneDrive - University of Bristol\\Documents\\MyProject\\MyData\\UV-VIS\\Xue Fang\n"
     ]
    }
   ],
   "source": [
    "cd C:\\Users\\sh19129\\OneDrive - University of Bristol\\Documents\\MyProject\\MyData\\UV-VIS\\Xue Fang"
   ]
  },
  {
   "cell_type": "code",
   "execution_count": 4,
   "metadata": {
    "tags": []
   },
   "outputs": [
    {
     "name": "stdout",
     "output_type": "stream",
     "text": [
      "Volume in drive C is Windows\n",
      " Volume Serial Number is 0869-8758\n",
      "\n",
      " Directory of C:\\Users\\sh19129\\OneDrive - University of Bristol\\Documents\\MyProject\\MyData\\UV-VIS\\Xue Fang\n",
      "\n",
      "20/08/2020  12:25    <DIR>          .\n",
      "20/08/2020  12:25    <DIR>          ..\n",
      "30/06/2020  18:36    <DIR>          .ipynb_checkpoints\n",
      "22/07/2020  15:43    <DIR>          BA1_0722\n",
      "22/07/2020  15:53    <DIR>          Boc_TANI_0722\n",
      "22/07/2020  15:57    <DIR>          CPh2Boc_TANI_0722\n",
      "22/07/2020  21:09             6,327 DBL.py\n",
      "30/06/2020  18:38            10,759 deconv.py\n",
      "23/07/2020  11:35            11,679 Father_test.opju\n",
      "27/06/2020  14:11    <DIR>          HSP\n",
      "27/06/2020  18:13            22,806 HSP.ipynb\n",
      "16/08/2020  15:27            22,433 molarabs.py\n",
      "23/07/2020  13:22               186 origin.py\n",
      "19/07/2020  17:36    <DIR>          PB1_0703\n",
      "08/07/2020  11:55    <DIR>          PB1_0707\n",
      "09/07/2020  16:27    <DIR>          PB1_0709\n",
      "12/07/2020  09:16    <DIR>          PB1_0711\n",
      "12/07/2020  22:21    <DIR>          PB1_0712\n",
      "24/07/2020  20:51    <DIR>          PB1_0724\n",
      "12/08/2020  19:20    <DIR>          PB1_0812\n",
      "20/08/2020  12:25    <DIR>          PB1_0820\n",
      "26/07/2020  13:34    <DIR>          PB1_Molar_Abs\n",
      "29/06/2020  20:35    <DIR>          PB1_TD\n",
      "09/07/2020  08:57         1,242,026 PB1_TD.opju\n",
      "29/06/2020  20:37           245,096 PB1_TD.xlsx\n",
      "20/03/2020  17:29    <DIR>          PDI-BA-1\n",
      "20/03/2020  16:32    <DIR>          PDI-BA-1-0319\n",
      "19/06/2020  20:31    <DIR>          PDI-BA-1-0617\n",
      "20/07/2020  20:44    <DIR>          PDI-BA-1-0619\n",
      "08/07/2020  20:52         1,624,514 PDI-BA-1-AGG-CONC-0617.opju\n",
      "20/06/2020  10:37         4,065,708 PDI-BA-1-CONC_SOLV_0313_0319.opju\n",
      "10/07/2020  21:51            37,070 PDI-BA-1-SOLV-CONC_AbsRatio.xlsx\n",
      "17/08/2020  09:58    <DIR>          PTCDA\n",
      "23/03/2020  16:48           329,305 PTCDA.zip\n",
      "08/07/2020  10:02             1,897 read.py\n",
      "18/06/2020  22:07             1,958 read_2.py\n",
      "27/06/2020  14:08             1,405 solvent_database.json\n",
      "09/07/2020  20:52           434,360 SpectraSolver.ipynb\n",
      "08/07/2020  10:27            11,596 SpetraSolver.py\n",
      "22/03/2020  13:13    <DIR>          TANIPDI\n",
      "08/07/2020  10:38            21,053 tol_25E-6_BLFFTSAV.txt\n",
      "29/06/2020  20:32    <DIR>          UVVSDATA\n",
      "20/08/2020  12:25    <DIR>          XF4-4\n",
      "              18 File(s)      8,090,178 bytes\n",
      "              25 Dir(s)  355,165,921,280 bytes free\n"
     ]
    }
   ],
   "source": [
    "ls"
   ]
  },
  {
   "cell_type": "code",
   "execution_count": 5,
   "metadata": {},
   "outputs": [],
   "source": [
    "run molarabs.py"
   ]
  },
  {
   "cell_type": "code",
   "execution_count": 31,
   "metadata": {},
   "outputs": [],
   "source": [
    "father_path=r'C:\\Users\\sh19129\\OneDrive - University of Bristol\\Documents\\MyProject\\MyData\\UV-VIS\\Xue Fang\\PB1_0711'\n",
    "sb=UVVisManager(father_path)"
   ]
  },
  {
   "cell_type": "code",
   "execution_count": 32,
   "metadata": {
    "tags": []
   },
   "outputs": [
    {
     "name": "stdout",
     "output_type": "stream",
     "text": [
      "uvvis_list generation successfully\n",
      "uvvis_list sort successfully\n",
      "DMF clear\n",
      "uvvis_list generation successfully\n",
      "uvvis_list sort successfully\n",
      "IPROH clear\n",
      "uvvis_list generation successfully\n",
      "uvvis_list sort successfully\n",
      "NMI clear\n"
     ]
    }
   ],
   "source": [
    "sb.txt_excel()"
   ]
  },
  {
   "cell_type": "code",
   "execution_count": 33,
   "metadata": {
    "tags": []
   },
   "outputs": [
    {
     "name": "stdout",
     "output_type": "stream",
     "text": [
      "DMF abs ratio calculated succcessfully.\n",
      "IPROH abs ratio calculated succcessfully.\n",
      "NMI abs ratio calculated succcessfully.\n"
     ]
    }
   ],
   "source": [
    "sb.max_peak_excel(task='abs')"
   ]
  },
  {
   "cell_type": "code",
   "execution_count": 12,
   "metadata": {
    "tags": []
   },
   "outputs": [
    {
     "name": "stdout",
     "output_type": "stream",
     "text": [
      "uvvis_list generation successfully\n",
      "uvvis_list sort successfully\n",
      "EH11 clear\n",
      "uvvis_list generation successfully\n",
      "uvvis_list sort successfully\n",
      "EH13 clear\n",
      "uvvis_list generation successfully\n",
      "uvvis_list sort successfully\n",
      "EH31 clear\n"
     ]
    }
   ],
   "source": [
    "sb.eps_excel(norm_700=1)"
   ]
  }
 ],
 "metadata": {
  "kernelspec": {
   "display_name": "Python 2.7.16 64-bit ('Anaconda2')",
   "language": "python",
   "name": "python3"
  },
  "language_info": {
   "codemirror_mode": {
    "name": "ipython",
    "version": 3
   },
   "file_extension": ".py",
   "mimetype": "text/x-python",
   "name": "python",
   "nbconvert_exporter": "python",
   "pygments_lexer": "ipython3",
   "version": "2.7.16"
  },
  "orig_nbformat": 2,
  "vscode": {
   "interpreter": {
    "hash": "b612290d10e215a798bfb6079944423b785af4a1dd6f45f6f52da3488836f3af"
   }
  }
 },
 "nbformat": 4,
 "nbformat_minor": 2
}
